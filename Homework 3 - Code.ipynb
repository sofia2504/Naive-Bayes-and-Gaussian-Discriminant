{
 "cells": [
  {
   "cell_type": "markdown",
   "id": "f528c8af",
   "metadata": {},
   "source": [
    "<span style=\"font-size: 24px;\">Binary Classification on Text Data</span>"
   ]
  },
  {
   "cell_type": "markdown",
   "id": "ba1ca92f",
   "metadata": {},
   "source": [
    "<span style=\"font-size: 18px;\">Question 1</span>"
   ]
  },
  {
   "cell_type": "code",
   "execution_count": 2,
   "id": "e04a1300",
   "metadata": {},
   "outputs": [
    {
     "name": "stderr",
     "output_type": "stream",
     "text": [
      "[nltk_data] Downloading package punkt to C:\\Users\\Sofia\n",
      "[nltk_data]     Beyerlein\\AppData\\Roaming\\nltk_data...\n",
      "[nltk_data]   Package punkt is already up-to-date!\n",
      "[nltk_data] Downloading package stopwords to C:\\Users\\Sofia\n",
      "[nltk_data]     Beyerlein\\AppData\\Roaming\\nltk_data...\n",
      "[nltk_data]   Package stopwords is already up-to-date!\n",
      "[nltk_data] Downloading package wordnet to C:\\Users\\Sofia\n",
      "[nltk_data]     Beyerlein\\AppData\\Roaming\\nltk_data...\n",
      "[nltk_data]   Package wordnet is already up-to-date!\n",
      "[nltk_data] Downloading package punkt_tab to C:\\Users\\Sofia\n",
      "[nltk_data]     Beyerlein\\AppData\\Roaming\\nltk_data...\n",
      "[nltk_data]   Package punkt_tab is already up-to-date!\n"
     ]
    }
   ],
   "source": [
    "import numpy as np\n",
    "import torch\n",
    "import pandas as pd\n",
    "import torch.nn as nn\n",
    "import torch.optim as optim\n",
    "from sklearn.model_selection import train_test_split\n",
    "from sklearn.linear_model import LinearRegression\n",
    "from sklearn.preprocessing import StandardScaler\n",
    "from sklearn.impute import SimpleImputer\n",
    "from sklearn.metrics import mean_squared_error, r2_score\n",
    "from matplotlib import pyplot as plt\n",
    "import seaborn as sns\n",
    "import string\n",
    "import re\n",
    "from nltk.stem import WordNetLemmatizer as wnl\n",
    "from sklearn.feature_extraction.text import CountVectorizer\n",
    "from sklearn.linear_model import LogisticRegression\n",
    "from sklearn.metrics import f1_score\n",
    "import nltk\n",
    "from nltk.corpus import stopwords\n",
    "nltk.download('punkt')\n",
    "nltk.download('stopwords')\n",
    "nltk.download('wordnet')\n",
    "nltk.download('punkt_tab')\n",
    "from scipy.stats import multivariate_normal\n",
    "from sklearn.metrics import accuracy_score, classification_report\n",
    "from sklearn.cluster import KMeans\n",
    "\n",
    "\n",
    "import torch.autograd as tag"
   ]
  },
  {
   "cell_type": "code",
   "execution_count": 3,
   "id": "dfa22778",
   "metadata": {},
   "outputs": [],
   "source": [
    "#DOWNLOAD THE DATA\n",
    "filepath_train = (r\"C:\\Users\\Sofia Beyerlein\\Desktop\\Cornell Graduate\\Applied Machine Learning\\hw2\\nlp-getting-started\\train.csv\")\n",
    "filepath_test = (r'C:\\Users\\Sofia Beyerlein\\Desktop\\Cornell Graduate\\Applied Machine Learning\\hw2\\nlp-getting-started\\test.csv')\n",
    "\n",
    "train = pd.read_csv(filepath_train)\n",
    "test = pd.read_csv(filepath_test)"
   ]
  },
  {
   "cell_type": "code",
   "execution_count": 4,
   "id": "cffe0a3c",
   "metadata": {},
   "outputs": [],
   "source": [
    "#SPLITTING THE DATA\n",
    "#70% -> 5329/7613 and 30% -> 2284\n",
    "training_set = train.sample(frac=0.7)\n",
    "dev_set = train.drop(training_set.index)"
   ]
  },
  {
   "cell_type": "code",
   "execution_count": 5,
   "id": "29f8530e",
   "metadata": {},
   "outputs": [
    {
     "data": {
      "text/html": [
       "<div>\n",
       "<style scoped>\n",
       "    .dataframe tbody tr th:only-of-type {\n",
       "        vertical-align: middle;\n",
       "    }\n",
       "\n",
       "    .dataframe tbody tr th {\n",
       "        vertical-align: top;\n",
       "    }\n",
       "\n",
       "    .dataframe thead th {\n",
       "        text-align: right;\n",
       "    }\n",
       "</style>\n",
       "<table border=\"1\" class=\"dataframe\">\n",
       "  <thead>\n",
       "    <tr style=\"text-align: right;\">\n",
       "      <th></th>\n",
       "      <th>id</th>\n",
       "      <th>keyword</th>\n",
       "      <th>location</th>\n",
       "      <th>text</th>\n",
       "      <th>target</th>\n",
       "    </tr>\n",
       "  </thead>\n",
       "  <tbody>\n",
       "    <tr>\n",
       "      <th>0</th>\n",
       "      <td>1</td>\n",
       "      <td>NaN</td>\n",
       "      <td>NaN</td>\n",
       "      <td>deed reason may allah forgive u</td>\n",
       "      <td>1</td>\n",
       "    </tr>\n",
       "    <tr>\n",
       "      <th>1</th>\n",
       "      <td>4</td>\n",
       "      <td>NaN</td>\n",
       "      <td>NaN</td>\n",
       "      <td>forest fire near la ronge sask canada</td>\n",
       "      <td>1</td>\n",
       "    </tr>\n",
       "    <tr>\n",
       "      <th>2</th>\n",
       "      <td>5</td>\n",
       "      <td>NaN</td>\n",
       "      <td>NaN</td>\n",
       "      <td>resident asked shelter place notified officer ...</td>\n",
       "      <td>1</td>\n",
       "    </tr>\n",
       "    <tr>\n",
       "      <th>3</th>\n",
       "      <td>6</td>\n",
       "      <td>NaN</td>\n",
       "      <td>NaN</td>\n",
       "      <td>13000 people receive evacuation order california</td>\n",
       "      <td>1</td>\n",
       "    </tr>\n",
       "    <tr>\n",
       "      <th>5</th>\n",
       "      <td>8</td>\n",
       "      <td>NaN</td>\n",
       "      <td>NaN</td>\n",
       "      <td>update california hwy 20 closed direction due ...</td>\n",
       "      <td>1</td>\n",
       "    </tr>\n",
       "    <tr>\n",
       "      <th>...</th>\n",
       "      <td>...</td>\n",
       "      <td>...</td>\n",
       "      <td>...</td>\n",
       "      <td>...</td>\n",
       "      <td>...</td>\n",
       "    </tr>\n",
       "    <tr>\n",
       "      <th>7601</th>\n",
       "      <td>10859</td>\n",
       "      <td>NaN</td>\n",
       "      <td>NaN</td>\n",
       "      <td>refugio oil spill may costlier bigger projecte...</td>\n",
       "      <td>1</td>\n",
       "    </tr>\n",
       "    <tr>\n",
       "      <th>7602</th>\n",
       "      <td>10860</td>\n",
       "      <td>NaN</td>\n",
       "      <td>NaN</td>\n",
       "      <td>siren went wasnt forney tornado warning</td>\n",
       "      <td>1</td>\n",
       "    </tr>\n",
       "    <tr>\n",
       "      <th>7606</th>\n",
       "      <td>10866</td>\n",
       "      <td>NaN</td>\n",
       "      <td>NaN</td>\n",
       "      <td>suicide bomber kill 15 saudi security site mos...</td>\n",
       "      <td>1</td>\n",
       "    </tr>\n",
       "    <tr>\n",
       "      <th>7607</th>\n",
       "      <td>10867</td>\n",
       "      <td>NaN</td>\n",
       "      <td>NaN</td>\n",
       "      <td>violent record breaking ef5 el reno oklahoma t...</td>\n",
       "      <td>1</td>\n",
       "    </tr>\n",
       "    <tr>\n",
       "      <th>7612</th>\n",
       "      <td>10873</td>\n",
       "      <td>NaN</td>\n",
       "      <td>NaN</td>\n",
       "      <td>latest home razed northern california wildfire...</td>\n",
       "      <td>1</td>\n",
       "    </tr>\n",
       "  </tbody>\n",
       "</table>\n",
       "<p>2284 rows × 5 columns</p>\n",
       "</div>"
      ],
      "text/plain": [
       "         id keyword location  \\\n",
       "0         1     NaN      NaN   \n",
       "1         4     NaN      NaN   \n",
       "2         5     NaN      NaN   \n",
       "3         6     NaN      NaN   \n",
       "5         8     NaN      NaN   \n",
       "...     ...     ...      ...   \n",
       "7601  10859     NaN      NaN   \n",
       "7602  10860     NaN      NaN   \n",
       "7606  10866     NaN      NaN   \n",
       "7607  10867     NaN      NaN   \n",
       "7612  10873     NaN      NaN   \n",
       "\n",
       "                                                   text  target  \n",
       "0                       deed reason may allah forgive u       1  \n",
       "1                 forest fire near la ronge sask canada       1  \n",
       "2     resident asked shelter place notified officer ...       1  \n",
       "3      13000 people receive evacuation order california       1  \n",
       "5     update california hwy 20 closed direction due ...       1  \n",
       "...                                                 ...     ...  \n",
       "7601  refugio oil spill may costlier bigger projecte...       1  \n",
       "7602            siren went wasnt forney tornado warning       1  \n",
       "7606  suicide bomber kill 15 saudi security site mos...       1  \n",
       "7607  violent record breaking ef5 el reno oklahoma t...       1  \n",
       "7612  latest home razed northern california wildfire...       1  \n",
       "\n",
       "[2284 rows x 5 columns]"
      ]
     },
     "execution_count": 5,
     "metadata": {},
     "output_type": "execute_result"
    }
   ],
   "source": [
    "def preprocess_data(df):\n",
    "    words_to_remove = {'the', 'and', 'or'}\n",
    "    #lowercase\n",
    "    df['text'] = df['text'].apply(lambda x: x.lower())\n",
    "    #remove @ and urls\n",
    "    df['text'] = df['text'].apply(lambda x: re.sub(r'@\\S+', '', x))\n",
    "    #remove # and hashtags\n",
    "    df['text'] = df['text'].apply(lambda x: re.sub(r'#\\S+', '', x))\n",
    "    #strip punctuation\n",
    "    df['text'] = df['text'].apply(lambda x: x.translate(str.maketrans('', '', string.punctuation)))\n",
    "    #strip the and or\n",
    "    df['text'] = df['text'].apply(lambda x: ' '.join(word for word in x.split() if word not in words_to_remove))\n",
    "    #lemmatize\n",
    "    lemmatizer = nltk.WordNetLemmatizer()\n",
    "    stop_words = set(stopwords.words('english'))\n",
    "    \n",
    "    def lemmatize_text(text):\n",
    "        tokens = nltk.word_tokenize(text)\n",
    "        lemmatized_tokens = [lemmatizer.lemmatize(word) for word in tokens if word not in stop_words]\n",
    "        return ' '.join(lemmatized_tokens)\n",
    "    \n",
    "    df['text'] = df['text'].apply(lemmatize_text)\n",
    "    \n",
    "    return df\n",
    "    \n",
    "        \n",
    "preprocess_data(training_set)\n",
    "preprocess_data(dev_set)"
   ]
  },
  {
   "cell_type": "code",
   "execution_count": 6,
   "id": "49b4245a",
   "metadata": {},
   "outputs": [],
   "source": [
    "M = 3\n",
    "vectorizer = CountVectorizer(binary=True, min_df=M)\n",
    "\n",
    "train_vectors = vectorizer.fit_transform(training_set['text'])\n",
    "dev_vectors = vectorizer.transform(dev_set['text'])"
   ]
  },
  {
   "cell_type": "markdown",
   "id": "a1933234",
   "metadata": {},
   "source": [
    "<span style = \"font-size: 18px;\">Part a: Bernoulli Naive Bayes</span>"
   ]
  },
  {
   "cell_type": "code",
   "execution_count": 7,
   "id": "8b3b9724",
   "metadata": {},
   "outputs": [
    {
     "name": "stdout",
     "output_type": "stream",
     "text": [
      "F1 Score: 0.7329960652051712\n"
     ]
    }
   ],
   "source": [
    "#functions for the bernoulli naive bayes classifier with laplace smoothing\n",
    "def calculate_class_priors(y):\n",
    "    num_docs = len(y)\n",
    "    class_priors = np.bincount(y) / num_docs\n",
    "    return class_priors\n",
    "\n",
    "def calculate_feature_probs(X, y, alpha=1):\n",
    "    num_docs, num_features = X.shape\n",
    "    feature_probs = np.zeros((2, num_features))\n",
    "    \n",
    "    for k in range(2):\n",
    "        class_docs = X[y == k]\n",
    "        feature_probs[k] = (class_docs.sum(axis=0) + alpha) / (class_docs.shape[0] + 2 * alpha)\n",
    "    \n",
    "    return feature_probs\n",
    "\n",
    "def predict_log_proba(X, class_priors, feature_probs):\n",
    "    num_docs, num_features = X.shape\n",
    "    log_probs = np.zeros((num_docs, 2))\n",
    "    \n",
    "    for k in range(2):\n",
    "        log_prob_k = np.log(class_priors[k])\n",
    "        log_prob_x_given_k = X @ np.log(feature_probs[k]) + (1 - X) @ np.log(1 - feature_probs[k])\n",
    "        log_probs[:, k] = log_prob_k + log_prob_x_given_k\n",
    "        \n",
    "    return log_probs\n",
    "\n",
    "def predict(X, class_priors, feature_probs):\n",
    "    log_probs = predict_log_proba(X, class_priors, feature_probs)\n",
    "    return np.argmax(log_probs, axis=1)\n",
    "\n",
    "#class prior calculations\n",
    "class_priors = calculate_class_priors(training_set['target'].values)\n",
    "\n",
    "#feature probablilities with laplace smoothing calculations\n",
    "feature_probs = calculate_feature_probs(train_vectors.toarray(), training_set['target'].values, alpha=1)\n",
    "\n",
    "#dev set predictions\n",
    "dev_predictions = predict(dev_vectors.toarray(), class_priors, feature_probs)\n",
    "\n",
    "#F1 score dev set\n",
    "f1 = f1_score(dev_set['target'], dev_predictions)\n",
    "print(f\"F1 Score: {f1}\")"
   ]
  },
  {
   "cell_type": "markdown",
   "id": "aa6ec81f",
   "metadata": {},
   "source": [
    "<span style = \"font-size: 18px;\">Part b: Model comparison</span>"
   ]
  },
  {
   "cell_type": "code",
   "execution_count": 8,
   "id": "981844a6",
   "metadata": {},
   "outputs": [],
   "source": [
    "#in the written report"
   ]
  },
  {
   "cell_type": "markdown",
   "id": "a6690c2a",
   "metadata": {},
   "source": [
    "<span style=\"font-size: 18px;\">Question 2</span>"
   ]
  },
  {
   "cell_type": "code",
   "execution_count": 9,
   "id": "23439b0b",
   "metadata": {},
   "outputs": [
    {
     "data": {
      "text/html": [
       "<div>\n",
       "<style scoped>\n",
       "    .dataframe tbody tr th:only-of-type {\n",
       "        vertical-align: middle;\n",
       "    }\n",
       "\n",
       "    .dataframe tbody tr th {\n",
       "        vertical-align: top;\n",
       "    }\n",
       "\n",
       "    .dataframe thead th {\n",
       "        text-align: right;\n",
       "    }\n",
       "</style>\n",
       "<table border=\"1\" class=\"dataframe\">\n",
       "  <thead>\n",
       "    <tr style=\"text-align: right;\">\n",
       "      <th></th>\n",
       "      <th>sepal length (cm)</th>\n",
       "      <th>sepal width (cm)</th>\n",
       "      <th>petal length (cm)</th>\n",
       "      <th>petal width (cm)</th>\n",
       "      <th>target</th>\n",
       "    </tr>\n",
       "  </thead>\n",
       "  <tbody>\n",
       "    <tr>\n",
       "      <th>0</th>\n",
       "      <td>5.1</td>\n",
       "      <td>3.5</td>\n",
       "      <td>1.4</td>\n",
       "      <td>0.2</td>\n",
       "      <td>0</td>\n",
       "    </tr>\n",
       "    <tr>\n",
       "      <th>1</th>\n",
       "      <td>4.9</td>\n",
       "      <td>3.0</td>\n",
       "      <td>1.4</td>\n",
       "      <td>0.2</td>\n",
       "      <td>0</td>\n",
       "    </tr>\n",
       "    <tr>\n",
       "      <th>2</th>\n",
       "      <td>4.7</td>\n",
       "      <td>3.2</td>\n",
       "      <td>1.3</td>\n",
       "      <td>0.2</td>\n",
       "      <td>0</td>\n",
       "    </tr>\n",
       "    <tr>\n",
       "      <th>3</th>\n",
       "      <td>4.6</td>\n",
       "      <td>3.1</td>\n",
       "      <td>1.5</td>\n",
       "      <td>0.2</td>\n",
       "      <td>0</td>\n",
       "    </tr>\n",
       "    <tr>\n",
       "      <th>4</th>\n",
       "      <td>5.0</td>\n",
       "      <td>3.6</td>\n",
       "      <td>1.4</td>\n",
       "      <td>0.2</td>\n",
       "      <td>0</td>\n",
       "    </tr>\n",
       "    <tr>\n",
       "      <th>...</th>\n",
       "      <td>...</td>\n",
       "      <td>...</td>\n",
       "      <td>...</td>\n",
       "      <td>...</td>\n",
       "      <td>...</td>\n",
       "    </tr>\n",
       "    <tr>\n",
       "      <th>145</th>\n",
       "      <td>6.7</td>\n",
       "      <td>3.0</td>\n",
       "      <td>5.2</td>\n",
       "      <td>2.3</td>\n",
       "      <td>2</td>\n",
       "    </tr>\n",
       "    <tr>\n",
       "      <th>146</th>\n",
       "      <td>6.3</td>\n",
       "      <td>2.5</td>\n",
       "      <td>5.0</td>\n",
       "      <td>1.9</td>\n",
       "      <td>2</td>\n",
       "    </tr>\n",
       "    <tr>\n",
       "      <th>147</th>\n",
       "      <td>6.5</td>\n",
       "      <td>3.0</td>\n",
       "      <td>5.2</td>\n",
       "      <td>2.0</td>\n",
       "      <td>2</td>\n",
       "    </tr>\n",
       "    <tr>\n",
       "      <th>148</th>\n",
       "      <td>6.2</td>\n",
       "      <td>3.4</td>\n",
       "      <td>5.4</td>\n",
       "      <td>2.3</td>\n",
       "      <td>2</td>\n",
       "    </tr>\n",
       "    <tr>\n",
       "      <th>149</th>\n",
       "      <td>5.9</td>\n",
       "      <td>3.0</td>\n",
       "      <td>5.1</td>\n",
       "      <td>1.8</td>\n",
       "      <td>2</td>\n",
       "    </tr>\n",
       "  </tbody>\n",
       "</table>\n",
       "<p>150 rows × 5 columns</p>\n",
       "</div>"
      ],
      "text/plain": [
       "     sepal length (cm)  sepal width (cm)  petal length (cm)  petal width (cm)  \\\n",
       "0                  5.1               3.5                1.4               0.2   \n",
       "1                  4.9               3.0                1.4               0.2   \n",
       "2                  4.7               3.2                1.3               0.2   \n",
       "3                  4.6               3.1                1.5               0.2   \n",
       "4                  5.0               3.6                1.4               0.2   \n",
       "..                 ...               ...                ...               ...   \n",
       "145                6.7               3.0                5.2               2.3   \n",
       "146                6.3               2.5                5.0               1.9   \n",
       "147                6.5               3.0                5.2               2.0   \n",
       "148                6.2               3.4                5.4               2.3   \n",
       "149                5.9               3.0                5.1               1.8   \n",
       "\n",
       "     target  \n",
       "0         0  \n",
       "1         0  \n",
       "2         0  \n",
       "3         0  \n",
       "4         0  \n",
       "..      ...  \n",
       "145       2  \n",
       "146       2  \n",
       "147       2  \n",
       "148       2  \n",
       "149       2  \n",
       "\n",
       "[150 rows x 5 columns]"
      ]
     },
     "execution_count": 9,
     "metadata": {},
     "output_type": "execute_result"
    }
   ],
   "source": [
    "#downloading the iris data\n",
    "from sklearn import datasets\n",
    "iris = datasets.load_iris ( as_frame = True )\n",
    "iris_df = iris.frame\n",
    "\n",
    "file_path = r\"C:\\Users\\Sofia Beyerlein\\Desktop\\Cornell Graduate\\Applied Machine Learning\\hw3\\iris_dataset.csv\"\n",
    "iris_df.to_csv(file_path, index=False)\n",
    "\n",
    "df = pd.read_csv(file_path)\n",
    "df"
   ]
  },
  {
   "cell_type": "code",
   "execution_count": 10,
   "id": "09f73298",
   "metadata": {},
   "outputs": [],
   "source": [
    "#splitting the dataset into testing and training sets\n",
    "#training: a, b, c, e\n",
    "#testing: d\n",
    "\n",
    "training_set = df.sample(frac=0.8)\n",
    "dev_set = df.drop(training_set.index)"
   ]
  },
  {
   "cell_type": "markdown",
   "id": "ca3b4a9e",
   "metadata": {},
   "source": [
    "<span style = \"font-size: 18px;\">Part a</span>"
   ]
  },
  {
   "cell_type": "code",
   "execution_count": 11,
   "id": "755d24ca",
   "metadata": {},
   "outputs": [
    {
     "data": {
      "image/png": "[encoded data removed]",
      "text/plain": [
       "<Figure size 1000x600 with 1 Axes>"
      ]
     },
     "metadata": {},
     "output_type": "display_data"
    }
   ],
   "source": [
    "#using training data\n",
    "#sepal length and sepal width\n",
    "feature_1 = 'sepal length (cm)'\n",
    "feature_2 = 'sepal width (cm)'\n",
    "\n",
    "setosa = training_set[training_set['target'] == 0]\n",
    "versicolor = training_set[training_set['target'] == 1]\n",
    "virginica = training_set[training_set['target'] == 2]\n",
    "\n",
    "plt.figure(figsize=(10, 6))\n",
    "plt.scatter(setosa[feature_1], setosa[feature_2], color='red', label='Setosa')\n",
    "plt.scatter(versicolor[feature_1], versicolor[feature_2], color='blue', label='Versicolor')\n",
    "plt.scatter(virginica[feature_1], virginica[feature_2], color='green', label='Virginica')\n",
    "\n",
    "plt.xlabel('Sepal Length (cm)')\n",
    "plt.ylabel('Sepal Width (cm)')\n",
    "plt.title('Sepal Length vs Sepal Width')\n",
    "\n",
    "plt.show()"
   ]
  },
  {
   "cell_type": "markdown",
   "id": "19eb6030",
   "metadata": {},
   "source": [
    "<span style = \"font-size: 18px;\">Part b</span>"
   ]
  },
  {
   "cell_type": "code",
   "execution_count": 12,
   "id": "60907636",
   "metadata": {},
   "outputs": [
    {
     "name": "stdout",
     "output_type": "stream",
     "text": [
      "The prior probability of setosa is: 0.325\n",
      "The prior probability of setosa is: 0.3416666666666667\n",
      "The prior probability of setosa is: 0.3333333333333333\n"
     ]
    }
   ],
   "source": [
    "#use training set\n",
    "#n_k number of observations in class k -> num in \n",
    "#setosa, versiocolor, virginica\n",
    "#N number of total observations in the data set\n",
    "\n",
    "#these are the n_k\n",
    "setosa_counts = len(setosa)\n",
    "versicolor_counts = len(versicolor)\n",
    "virginica_counts = len(virginica)\n",
    "\n",
    "#N\n",
    "N = len(training_set)\n",
    "\n",
    "prior_probability = {\n",
    "    \"setosa\" : (setosa_counts/N),\n",
    "    \"versicolor\" : (versicolor_counts/N),\n",
    "    \"virginica\" : (virginica_counts/N),\n",
    "}\n",
    "\n",
    "print(f\"The prior probability of setosa is: {prior_probability['setosa']}\")\n",
    "print(f\"The prior probability of setosa is: {prior_probability['versicolor']}\")\n",
    "print(f\"The prior probability of setosa is: {prior_probability['virginica']}\")"
   ]
  },
  {
   "cell_type": "markdown",
   "id": "503abe7a",
   "metadata": {},
   "source": [
    "<span style = \"font-size: 18px;\">Part c</span>"
   ]
  },
  {
   "cell_type": "code",
   "execution_count": 13,
   "id": "1f5ee34c",
   "metadata": {},
   "outputs": [
    {
     "name": "stdout",
     "output_type": "stream",
     "text": [
      "Class: virginica\n",
      "Mean vector virginica:\n",
      "[6.5825 2.975  5.5575 2.0125]\n",
      "Covariance matrix virginica:\n",
      "[[0.42353205 0.12108974 0.31692949 0.06535256]\n",
      " [0.12108974 0.11269231 0.09121795 0.05237179]\n",
      " [0.31692949 0.09121795 0.31430128 0.06695513]\n",
      " [0.06535256 0.05237179 0.06695513 0.08573718]]\n",
      "\n",
      "Class: versicolor\n",
      "Mean vector versicolor:\n",
      "[5.91219512 2.79268293 4.24390244 1.32195122]\n",
      "Covariance matrix versicolor:\n",
      "[[0.26659756 0.08559146 0.17695122 0.05222561]\n",
      " [0.08559146 0.09419512 0.08707927 0.04191463]\n",
      " [0.17695122 0.08707927 0.22502439 0.0730122 ]\n",
      " [0.05222561 0.04191463 0.0730122  0.0397561 ]]\n",
      "\n",
      "Class: setosa\n",
      "Mean vector setosa:\n",
      "[4.98205128 3.40769231 1.43333333 0.23589744]\n",
      "Covariance matrix setosa:\n",
      "[[0.13730094 0.11487854 0.01482456 0.00908232]\n",
      " [0.11487854 0.16651822 0.00684211 0.00866397]\n",
      " [0.01482456 0.00684211 0.02912281 0.00324561]\n",
      " [0.00908232 0.00866397 0.00324561 0.00762483]]\n",
      "\n"
     ]
    }
   ],
   "source": [
    "features = iris.feature_names\n",
    "target = 'target'\n",
    "\n",
    "class_stats = {}\n",
    "for class_index in training_set[target].unique():\n",
    "    class_data = training_set[training_set[target] == class_index][features]\n",
    "    mean_vector = class_data.mean().values\n",
    "    covariance_matrix = class_data.cov().values\n",
    "    \n",
    "    class_stats[class_index] = {\n",
    "        'mean': mean_vector,\n",
    "        'covariance': covariance_matrix\n",
    "    }\n",
    "\n",
    "#Print the matrix for each class\n",
    "for class_index, stats in class_stats.items():\n",
    "    class_name = iris.target_names[class_index]\n",
    "    print(f\"Class: {class_name}\")\n",
    "    print(f\"Mean vector {class_name}:\")\n",
    "    print(stats['mean'])\n",
    "    print(f\"Covariance matrix {class_name}:\")\n",
    "    print(stats['covariance'])\n",
    "    print()"
   ]
  },
  {
   "cell_type": "markdown",
   "id": "16b65c41",
   "metadata": {},
   "source": [
    "<span style = \"font-size: 18px;\">Part d i</span>"
   ]
  },
  {
   "cell_type": "code",
   "execution_count": 14,
   "id": "afff8917",
   "metadata": {},
   "outputs": [
    {
     "name": "stdout",
     "output_type": "stream",
     "text": [
      "Predicted classes: [0 0 0 0 0 0 0 0 0 0 0 1 1 1 2 1 1 1 1 1 2 2 2 2 2 2 2 2 2 2]\n",
      "Actual classes: [0 0 0 0 0 0 0 0 0 0 0 1 1 1 1 1 1 1 1 1 2 2 2 2 2 2 2 2 2 2]\n",
      "Accuracy: 0.97\n",
      "Classification Report:\n",
      "              precision    recall  f1-score   support\n",
      "\n",
      "      setosa       1.00      1.00      1.00        11\n",
      "  versicolor       1.00      0.89      0.94         9\n",
      "   virginica       0.91      1.00      0.95        10\n",
      "\n",
      "    accuracy                           0.97        30\n",
      "   macro avg       0.97      0.96      0.96        30\n",
      "weighted avg       0.97      0.97      0.97        30\n",
      "\n"
     ]
    }
   ],
   "source": [
    "X_train = training_set[features].values\n",
    "y_train = training_set[target].values\n",
    "X_test = dev_set[features].values\n",
    "y_test = dev_set[target].values\n",
    "\n",
    "class_priors = {}\n",
    "for class_index in np.unique(y_train):\n",
    "    class_priors[class_index] = np.mean(y_train == class_index)\n",
    "    \n",
    "class_stats = {}\n",
    "for class_index in np.unique(y_train):\n",
    "    class_data = X_train[y_train == class_index]\n",
    "    mean_vector = np.mean(class_data, axis=0)\n",
    "    covariance_matrix = np.cov(class_data, rowvar=False)\n",
    "    \n",
    "    class_stats[class_index] = {\n",
    "        'mean': mean_vector,\n",
    "        'covariance': covariance_matrix\n",
    "    }\n",
    "    \n",
    "def predict_class(X):\n",
    "    num_classes = len(class_priors)\n",
    "    num_samples = X.shape[0]\n",
    "    posteriors = np.zeros((num_samples, num_classes))\n",
    "    \n",
    "    for class_index in range(num_classes):\n",
    "        prior = class_priors[class_index]\n",
    "        mean_vector = class_stats[class_index]['mean']\n",
    "        covariance_matrix = class_stats[class_index]['covariance']\n",
    "        \n",
    "        #compute likelihood\n",
    "        likelihood = multivariate_normal(mean=mean_vector, cov=covariance_matrix).pdf(X)\n",
    "        \n",
    "        #compute posterior probability\n",
    "        posteriors[:, class_index] = likelihood * prior\n",
    "    \n",
    "    #predict the class with highest posterior probability\n",
    "    predictions = np.argmax(posteriors, axis=1)\n",
    "    return predictions\n",
    "\n",
    "#predict the classes for the test set\n",
    "y_pred = predict_class(X_test)\n",
    "\n",
    "#print the predictions and labels\n",
    "print(\"Predicted classes:\", y_pred)\n",
    "print(\"Actual classes:\", y_test)\n",
    "\n",
    "accuracy = accuracy_score(y_test, y_pred)\n",
    "print(f\"Accuracy: {accuracy:.2f}\")\n",
    "\n",
    "print(\"Classification Report:\")\n",
    "print(classification_report(y_test, y_pred, target_names=iris.target_names))"
   ]
  },
  {
   "cell_type": "markdown",
   "id": "0ac698de",
   "metadata": {},
   "source": [
    "<span style = \"font-size: 18px;\">Part d ii</span>"
   ]
  },
  {
   "cell_type": "code",
   "execution_count": 15,
   "id": "92d455c6",
   "metadata": {},
   "outputs": [],
   "source": [
    "#WRITTEN IN THE REPORT"
   ]
  },
  {
   "cell_type": "markdown",
   "id": "1a56a682",
   "metadata": {},
   "source": [
    "<span style = \"font-size: 18px;\">Part e</span>"
   ]
  },
  {
   "cell_type": "code",
   "execution_count": 16,
   "id": "a6c3c7bb",
   "metadata": {},
   "outputs": [
    {
     "name": "stderr",
     "output_type": "stream",
     "text": [
      "C:\\Users\\Sofia Beyerlein\\anaconda3\\Lib\\site-packages\\sklearn\\cluster\\_kmeans.py:1412: FutureWarning: The default value of `n_init` will change from 10 to 'auto' in 1.4. Set the value of `n_init` explicitly to suppress the warning\n",
      "  super()._check_params_vs_input(X, default_n_init=10)\n",
      "C:\\Users\\Sofia Beyerlein\\anaconda3\\Lib\\site-packages\\sklearn\\cluster\\_kmeans.py:1436: UserWarning: KMeans is known to have a memory leak on Windows with MKL, when there are less chunks than available threads. You can avoid it by setting the environment variable OMP_NUM_THREADS=1.\n",
      "  warnings.warn(\n"
     ]
    },
    {
     "data": {
      "text/plain": [
       "<Figure size 1000x600 with 0 Axes>"
      ]
     },
     "metadata": {},
     "output_type": "display_data"
    },
    {
     "data": {
      "image/png": "[encoded data removed]",
      "text/plain": [
       "<Figure size 1000x600 with 1 Axes>"
      ]
     },
     "metadata": {},
     "output_type": "display_data"
    }
   ],
   "source": [
    "kmeans = KMeans(n_clusters=2, random_state=42)\n",
    "training_set['cluster'] = kmeans.fit_predict(training_set[[feature_1, feature_2]])\n",
    "\n",
    "plt.figure(figsize=(10, 6))\n",
    "\n",
    "plt.figure(figsize=(10, 6))\n",
    "plt.scatter(training_set[feature_1], training_set[feature_2], c=training_set['cluster'], cmap='viridis', marker='o')\n",
    "plt.scatter(kmeans.cluster_centers_[:, 0], kmeans.cluster_centers_[:, 1], s=300, c='red', marker='x')\n",
    "plt.xlabel('Sepal Length (cm)')\n",
    "plt.ylabel('Sepal Width (cm)')\n",
    "plt.title('K-means Clustering (K=2)')\n",
    "plt.show()"
   ]
  }
 ],
 "metadata": {
  "kernelspec": {
   "display_name": "Python 3 (ipykernel)",
   "language": "python",
   "name": "python3"
  },
  "language_info": {
   "codemirror_mode": {
    "name": "ipython",
    "version": 3
   },
   "file_extension": ".py",
   "mimetype": "text/x-python",
   "name": "python",
   "nbconvert_exporter": "python",
   "pygments_lexer": "ipython3",
   "version": "3.11.5"
  }
 },
 "nbformat": 4,
 "nbformat_minor": 5
}
